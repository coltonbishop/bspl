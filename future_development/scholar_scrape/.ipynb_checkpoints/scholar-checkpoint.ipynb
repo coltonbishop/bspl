{
 "cells": [
  {
   "cell_type": "code",
   "execution_count": 3,
   "metadata": {},
   "outputs": [],
   "source": [
    "import scholarly\n",
    "\n",
    "def searchResults(query, num):\n",
    "    search_query = scholarly.search_pubs_query(query)\n",
    "    fileName = \"%sSearchResults.txt\" % query\n",
    "    file = open(fileName,\"a+\")\n",
    "    file.write(query + \"\\n\")\n",
    "    for i in range(0, num):\n",
    "        s = str(next(search_query))\n",
    "        s.encode(encoding = 'UTF-8',errors = 'strict')\n",
    "        file.write(s + \"\\n\\n\")\n",
    "    file.close()"
   ]
  },
  {
   "cell_type": "code",
   "execution_count": 4,
   "metadata": {},
   "outputs": [],
   "source": [
    "## Provide search query and number of results you'd like saved in the format\n",
    "## searchResults(QUERY, NUMBER)\n",
    "\n",
    "s = searchResults('prosocial preference correlation environment', 2)\n"
   ]
  },
  {
   "cell_type": "code",
   "execution_count": 5,
   "metadata": {},
   "outputs": [
    {
     "name": "stdout",
     "output_type": "stream",
     "text": [
      "None\n"
     ]
    }
   ],
   "source": [
    "print(s)"
   ]
  },
  {
   "cell_type": "code",
   "execution_count": null,
   "metadata": {},
   "outputs": [],
   "source": []
  }
 ],
 "metadata": {
  "kernelspec": {
   "display_name": "Python 3",
   "language": "python",
   "name": "python3"
  },
  "language_info": {
   "codemirror_mode": {
    "name": "ipython",
    "version": 3
   },
   "file_extension": ".py",
   "mimetype": "text/x-python",
   "name": "python",
   "nbconvert_exporter": "python",
   "pygments_lexer": "ipython3",
   "version": "3.7.3"
  }
 },
 "nbformat": 4,
 "nbformat_minor": 2
}
